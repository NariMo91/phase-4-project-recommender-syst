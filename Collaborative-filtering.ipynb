{
 "cells": [
  {
   "cell_type": "markdown",
   "metadata": {},
   "source": [
    "# Collaborative Filtering"
   ]
  },
  {
   "cell_type": "code",
   "execution_count": 1,
   "metadata": {},
   "outputs": [],
   "source": [
    "import pandas as pd\n",
    "import numpy as np\n",
    "import matplotlib.pyplot as plt\n",
    "import seaborn as sns\n",
    "%matplotlib inline"
   ]
  },
  {
   "cell_type": "code",
   "execution_count": 2,
   "metadata": {},
   "outputs": [
    {
     "data": {
      "text/html": [
       "<div>\n",
       "<style scoped>\n",
       "    .dataframe tbody tr th:only-of-type {\n",
       "        vertical-align: middle;\n",
       "    }\n",
       "\n",
       "    .dataframe tbody tr th {\n",
       "        vertical-align: top;\n",
       "    }\n",
       "\n",
       "    .dataframe thead th {\n",
       "        text-align: right;\n",
       "    }\n",
       "</style>\n",
       "<table border=\"1\" class=\"dataframe\">\n",
       "  <thead>\n",
       "    <tr style=\"text-align: right;\">\n",
       "      <th></th>\n",
       "      <th>userId</th>\n",
       "      <th>movieId</th>\n",
       "      <th>rating</th>\n",
       "      <th>timestamp</th>\n",
       "    </tr>\n",
       "  </thead>\n",
       "  <tbody>\n",
       "    <tr>\n",
       "      <th>0</th>\n",
       "      <td>1</td>\n",
       "      <td>1</td>\n",
       "      <td>4.0</td>\n",
       "      <td>964982703</td>\n",
       "    </tr>\n",
       "    <tr>\n",
       "      <th>1</th>\n",
       "      <td>1</td>\n",
       "      <td>3</td>\n",
       "      <td>4.0</td>\n",
       "      <td>964981247</td>\n",
       "    </tr>\n",
       "    <tr>\n",
       "      <th>2</th>\n",
       "      <td>1</td>\n",
       "      <td>6</td>\n",
       "      <td>4.0</td>\n",
       "      <td>964982224</td>\n",
       "    </tr>\n",
       "    <tr>\n",
       "      <th>3</th>\n",
       "      <td>1</td>\n",
       "      <td>47</td>\n",
       "      <td>5.0</td>\n",
       "      <td>964983815</td>\n",
       "    </tr>\n",
       "    <tr>\n",
       "      <th>4</th>\n",
       "      <td>1</td>\n",
       "      <td>50</td>\n",
       "      <td>5.0</td>\n",
       "      <td>964982931</td>\n",
       "    </tr>\n",
       "  </tbody>\n",
       "</table>\n",
       "</div>"
      ],
      "text/plain": [
       "   userId  movieId  rating  timestamp\n",
       "0       1        1     4.0  964982703\n",
       "1       1        3     4.0  964981247\n",
       "2       1        6     4.0  964982224\n",
       "3       1       47     5.0  964983815\n",
       "4       1       50     5.0  964982931"
      ]
     },
     "execution_count": 2,
     "metadata": {},
     "output_type": "execute_result"
    }
   ],
   "source": [
    "movies = pd.read_csv('data/movies_cleaned.csv')\n",
    "movies.drop('Unnamed: 0', axis=1, inplace=True)\n",
    "\n",
    "ratings = pd.read_csv('data/ratings_cleaned.csv')\n",
    "ratings.drop('Unnamed: 0', axis=1, inplace=True)\n",
    "\n",
    "tags = pd.read_csv('data/tags_cleaned.csv')\n",
    "tags.drop('Unnamed: 0', axis=1, inplace=True)\n",
    "\n",
    "ratings.head()"
   ]
  },
  {
   "cell_type": "code",
   "execution_count": 3,
   "metadata": {},
   "outputs": [
    {
     "data": {
      "text/plain": [
       "(100836, 4)"
      ]
     },
     "execution_count": 3,
     "metadata": {},
     "output_type": "execute_result"
    }
   ],
   "source": [
    "ratings.shape"
   ]
  },
  {
   "cell_type": "code",
   "execution_count": 4,
   "metadata": {},
   "outputs": [],
   "source": [
    "ratings.drop('timestamp', axis=1, inplace=True)\n",
    "\n",
    "from surprise import Reader, Dataset\n",
    "\n",
    "reader = Reader()\n",
    "data = Dataset.load_from_df(ratings, reader)"
   ]
  },
  {
   "cell_type": "code",
   "execution_count": 16,
   "metadata": {},
   "outputs": [
    {
     "data": {
      "text/plain": [
       "surprise.dataset.DatasetAutoFolds"
      ]
     },
     "execution_count": 16,
     "metadata": {},
     "output_type": "execute_result"
    }
   ],
   "source": [
    "type(data)"
   ]
  },
  {
   "cell_type": "code",
   "execution_count": 5,
   "metadata": {},
   "outputs": [],
   "source": [
    "from surprise.prediction_algorithms import BaselineOnly, KNNBasic, KNNWithMeans, SVD, SVDpp, SlopeOne, CoClustering  \n",
    "from surprise import accuracy\n",
    "from surprise.model_selection import KFold"
   ]
  },
  {
   "cell_type": "code",
   "execution_count": 55,
   "metadata": {},
   "outputs": [
    {
     "name": "stdout",
     "output_type": "stream",
     "text": [
      "Algo: BaselineOnly\n",
      "\n",
      "\n",
      "Estimating biases using als...\n",
      "Fold 1\n",
      "Train RMSE: 0.8359314343339654\n",
      "Test RMSE: 0.8769476665685945\n",
      "Estimating biases using als...\n",
      "Fold 2\n",
      "Train RMSE: 0.8347694743279065\n",
      "Test RMSE: 0.8797867387844425\n",
      "Estimating biases using als...\n",
      "Fold 3\n",
      "Train RMSE: 0.8372073513571463\n",
      "Test RMSE: 0.8709396755927259\n",
      "Estimating biases using als...\n",
      "Fold 4\n",
      "Train RMSE: 0.8393339217887553\n",
      "Test RMSE: 0.8614796859985167\n",
      "Estimating biases using als...\n",
      "Fold 5\n",
      "Train RMSE: 0.8373028893555643\n",
      "Test RMSE: 0.8725240739858989\n",
      "-----------------------------------------\n",
      "\n",
      "Algo: KNNBasic\n",
      "\n",
      "\n",
      "Computing the msd similarity matrix...\n",
      "Done computing similarity matrix.\n",
      "Fold 1\n",
      "Train RMSE: 0.7101389490773293\n",
      "Test RMSE: 0.9518272007308126\n",
      "Computing the msd similarity matrix...\n",
      "Done computing similarity matrix.\n",
      "Fold 2\n",
      "Train RMSE: 0.7107380073610873\n",
      "Test RMSE: 0.9516472785476531\n",
      "Computing the msd similarity matrix...\n",
      "Done computing similarity matrix.\n",
      "Fold 3\n",
      "Train RMSE: 0.7125696800833738\n",
      "Test RMSE: 0.9422611786525384\n",
      "Computing the msd similarity matrix...\n",
      "Done computing similarity matrix.\n",
      "Fold 4\n",
      "Train RMSE: 0.7137725359959312\n",
      "Test RMSE: 0.9294662355462576\n",
      "Computing the msd similarity matrix...\n",
      "Done computing similarity matrix.\n",
      "Fold 5\n",
      "Train RMSE: 0.7132733375244745\n",
      "Test RMSE: 0.9450195604634429\n",
      "-----------------------------------------\n",
      "\n",
      "Algo: KNNWithMeans\n",
      "\n",
      "\n",
      "Computing the msd similarity matrix...\n",
      "Done computing similarity matrix.\n",
      "Fold 1\n",
      "Train RMSE: 0.6856998705758436\n",
      "Test RMSE: 0.8996614921912022\n",
      "Computing the msd similarity matrix...\n",
      "Done computing similarity matrix.\n",
      "Fold 2\n",
      "Train RMSE: 0.6858591546920433\n",
      "Test RMSE: 0.9056668508748901\n",
      "Computing the msd similarity matrix...\n",
      "Done computing similarity matrix.\n",
      "Fold 3\n",
      "Train RMSE: 0.6871735120580375\n",
      "Test RMSE: 0.8960753854308932\n",
      "Computing the msd similarity matrix...\n",
      "Done computing similarity matrix.\n",
      "Fold 4\n",
      "Train RMSE: 0.6888832232896717\n",
      "Test RMSE: 0.8812066424179392\n",
      "Computing the msd similarity matrix...\n",
      "Done computing similarity matrix.\n",
      "Fold 5\n",
      "Train RMSE: 0.6887354619447559\n",
      "Test RMSE: 0.8936271253291835\n",
      "-----------------------------------------\n",
      "\n",
      "Algo: SVD\n",
      "\n",
      "\n",
      "Fold 1\n",
      "Train RMSE: 0.6353158035087878\n",
      "Test RMSE: 0.8757061853693824\n",
      "Fold 2\n",
      "Train RMSE: 0.6349792413283097\n",
      "Test RMSE: 0.8821866057470671\n",
      "Fold 3\n",
      "Train RMSE: 0.6325193045283665\n",
      "Test RMSE: 0.8699567982848373\n",
      "Fold 4\n",
      "Train RMSE: 0.6372383027262906\n",
      "Test RMSE: 0.8621763805695373\n",
      "Fold 5\n",
      "Train RMSE: 0.6357104371158968\n",
      "Test RMSE: 0.872886145562307\n",
      "-----------------------------------------\n",
      "\n",
      "Algo: SlopeOne\n",
      "\n",
      "\n"
     ]
    },
    {
     "name": "stderr",
     "output_type": "stream",
     "text": [
      "<ipython-input-55-e13bc1bfa5df>:9: DeprecationWarning: `np.int` is a deprecated alias for the builtin `int`. To silence this warning, use `int` by itself. Doing this will not modify any behavior and is safe. When replacing `np.int`, you may wish to use e.g. `np.int64` or `np.int32` to specify the precision. If you wish to review your current use, check the release note link for additional information.\n",
      "Deprecated in NumPy 1.20; for more details and guidance: https://numpy.org/devdocs/release/1.20.0-notes.html#deprecations\n",
      "  algo.fit(trainset)\n"
     ]
    },
    {
     "name": "stdout",
     "output_type": "stream",
     "text": [
      "Fold 1\n",
      "Train RMSE: 0.5939534090379017\n",
      "Test RMSE: 0.9064712969350329\n",
      "Fold 2\n",
      "Train RMSE: 0.5923854725648732\n",
      "Test RMSE: 0.9072451288051778\n",
      "Fold 3\n",
      "Train RMSE: 0.5933649152829883\n",
      "Test RMSE: 0.8982809483473887\n",
      "Fold 4\n",
      "Train RMSE: 0.5941299523001486\n",
      "Test RMSE: 0.8872537132401754\n",
      "Fold 5\n",
      "Train RMSE: 0.5947064785946861\n",
      "Test RMSE: 0.8969497079768711\n",
      "-----------------------------------------\n",
      "\n",
      "Algo: CoClustering\n",
      "\n",
      "\n",
      "Fold 1\n",
      "Train RMSE: 0.8149730924788463\n",
      "Test RMSE: 0.9436859799970447\n",
      "Fold 2\n",
      "Train RMSE: 0.8142422949950948\n",
      "Test RMSE: 0.951169728656384\n",
      "Fold 3\n",
      "Train RMSE: 0.8161835721564057\n",
      "Test RMSE: 0.9436909327601742\n",
      "Fold 4\n",
      "Train RMSE: 0.8207156065748351\n",
      "Test RMSE: 0.9292039748582993\n",
      "Fold 5\n",
      "Train RMSE: 0.8192091647443331\n",
      "Test RMSE: 0.9355919104560565\n",
      "-----------------------------------------\n",
      "\n"
     ]
    }
   ],
   "source": [
    "algos = [BaselineOnly(), KNNBasic(), KNNWithMeans(), SVD(), SlopeOne(), CoClustering()]\n",
    "algo_names = ['BaselineOnly', 'KNNBasic', 'KNNWithMeans', 'SVD', 'SlopeOne', 'CoClustering']\n",
    "kf = KFold(n_splits=5, random_state=123)\n",
    "\n",
    "for idx, algo in enumerate(algos):\n",
    "    print('Algo:', algo_names[idx])\n",
    "    print('\\n')\n",
    "    for idx, (trainset, testset) in enumerate(kf.split(data)):\n",
    "        algo.fit(trainset)\n",
    "        test_preds = algo.test(testset)\n",
    "        \n",
    "        # convert trainset into \"testset\" in order to get predictions\n",
    "        train_preds = algo.test(trainset.build_testset())\n",
    "        \n",
    "        print('Fold {}'.format(idx+1))\n",
    "        print('Train RMSE:', accuracy.rmse(train_preds, verbose=False))\n",
    "        print('Test RMSE:', accuracy.rmse(test_preds, verbose=False))\n",
    "    print('-----------------------------------------\\n')"
   ]
  },
  {
   "cell_type": "markdown",
   "metadata": {},
   "source": [
    "Of these prediction algorithms, SVD and BaselineOnly perform the best in terms of test set RMSE. SVD appaears to be overfit to the training data. I will continue to optimize both SVD and BaselineOnly."
   ]
  },
  {
   "cell_type": "code",
   "execution_count": 7,
   "metadata": {},
   "outputs": [],
   "source": [
    "from surprise.model_selection import GridSearchCV"
   ]
  },
  {
   "cell_type": "code",
   "execution_count": 8,
   "metadata": {},
   "outputs": [],
   "source": [
    "params = {'n_factors': [20, 50, 100, 150],\n",
    "         'reg_all': [0.02, 0.05, 0.1]}\n",
    "\n",
    "gs_svd = GridSearchCV(SVD, param_grid=params, n_jobs=-1)\n",
    "gs_svd.fit(data)"
   ]
  },
  {
   "cell_type": "code",
   "execution_count": 9,
   "metadata": {},
   "outputs": [
    {
     "name": "stdout",
     "output_type": "stream",
     "text": [
      "{'rmse': {'n_factors': 50, 'reg_all': 0.05}, 'mae': {'n_factors': 150, 'reg_all': 0.05}}\n",
      "{'rmse': 0.8685569017111574, 'mae': 0.6677608987007162}\n"
     ]
    }
   ],
   "source": [
    "print(gs_svd.best_params)\n",
    "print(gs_svd.best_score)"
   ]
  },
  {
   "cell_type": "code",
   "execution_count": 30,
   "metadata": {},
   "outputs": [],
   "source": [
    "params = {'n_factors': [30, 40, 50, 60, 70],\n",
    "          'reg_all': [0.03, 0.05, 0.07]}\n",
    "\n",
    "gs_svd2 = GridSearchCV(SVD, param_grid=params, n_jobs=-1)\n",
    "gs_svd2.fit(data)"
   ]
  },
  {
   "cell_type": "code",
   "execution_count": 31,
   "metadata": {},
   "outputs": [
    {
     "name": "stdout",
     "output_type": "stream",
     "text": [
      "{'rmse': {'n_factors': 50, 'reg_all': 0.05}, 'mae': {'n_factors': 40, 'reg_all': 0.03}}\n",
      "{'rmse': 0.8688949378180041, 'mae': 0.6676795148278568}\n"
     ]
    }
   ],
   "source": [
    "print(gs_svd2.best_params)\n",
    "print(gs_svd2.best_score)"
   ]
  },
  {
   "cell_type": "markdown",
   "metadata": {},
   "source": [
    "The second SVD gridsearch chooses the same values for `n_factors` and `reg_all` as the first grid search without improvement in RMSE."
   ]
  },
  {
   "cell_type": "code",
   "execution_count": 48,
   "metadata": {},
   "outputs": [],
   "source": [
    "params = {'bsl_options': {'method': ['als'],\n",
    "                           'n_epochs': [5, 10, 15],\n",
    "                           'reg_u': [10, 15, 20],\n",
    "                           'reg_i': [5, 10, 15]}}\n",
    "\n",
    "gs_bsl_only = GridSearchCV(BaselineOnly, param_grid=params, n_jobs=-1)\n",
    "gs_bsl_only.fit(data)"
   ]
  },
  {
   "cell_type": "code",
   "execution_count": 49,
   "metadata": {},
   "outputs": [
    {
     "name": "stdout",
     "output_type": "stream",
     "text": [
      "{'rmse': {'bsl_options': {'method': 'als', 'n_epochs': 15, 'reg_u': 10, 'reg_i': 5}}, 'mae': {'bsl_options': {'method': 'als', 'n_epochs': 15, 'reg_u': 10, 'reg_i': 5}}}\n",
      "{'rmse': 0.8663971733011129, 'mae': 0.6663383473579636}\n"
     ]
    }
   ],
   "source": [
    "print(gs_bsl_only.best_params)\n",
    "print(gs_bsl_only.best_score)"
   ]
  },
  {
   "cell_type": "code",
   "execution_count": 50,
   "metadata": {},
   "outputs": [],
   "source": [
    "params = {'bsl_options': {'method': ['als'],\n",
    "                           'n_epochs': [20, 50, 100],\n",
    "                           'reg_u': [2, 4, 8, 10, 12],\n",
    "                           'reg_i': [1, 3, 5, 7]}}\n",
    "\n",
    "gs_bsl_only2 = GridSearchCV(BaselineOnly, param_grid=params, n_jobs=-1)\n",
    "gs_bsl_only2.fit(data)"
   ]
  },
  {
   "cell_type": "code",
   "execution_count": 51,
   "metadata": {},
   "outputs": [
    {
     "name": "stdout",
     "output_type": "stream",
     "text": [
      "{'rmse': {'bsl_options': {'method': 'als', 'n_epochs': 100, 'reg_u': 4, 'reg_i': 3}}, 'mae': {'bsl_options': {'method': 'als', 'n_epochs': 100, 'reg_u': 2, 'reg_i': 3}}}\n",
      "{'rmse': 0.863728619261542, 'mae': 0.6629538626379057}\n"
     ]
    }
   ],
   "source": [
    "print(gs_bsl_only2.best_params)\n",
    "print(gs_bsl_only2.best_score)"
   ]
  },
  {
   "cell_type": "code",
   "execution_count": 56,
   "metadata": {},
   "outputs": [],
   "source": [
    "params = {'bsl_options': {'method': ['als'],\n",
    "                           'n_epochs': [20, 50],\n",
    "                           'reg_u': [2, 4, 8, 10],\n",
    "                           'reg_i': [1, 3, 5, 7]}}\n",
    "\n",
    "gs_bsl_only3 = GridSearchCV(BaselineOnly, param_grid=params, n_jobs=-1)\n",
    "gs_bsl_only3.fit(data)"
   ]
  },
  {
   "cell_type": "code",
   "execution_count": 57,
   "metadata": {},
   "outputs": [
    {
     "name": "stdout",
     "output_type": "stream",
     "text": [
      "{'rmse': {'bsl_options': {'method': 'als', 'n_epochs': 50, 'reg_u': 4, 'reg_i': 3}}, 'mae': {'bsl_options': {'method': 'als', 'n_epochs': 50, 'reg_u': 2, 'reg_i': 3}}}\n",
      "{'rmse': 0.8647400877308197, 'mae': 0.6637614096730935}\n"
     ]
    }
   ],
   "source": [
    "print(gs_bsl_only3.best_params)\n",
    "print(gs_bsl_only3.best_score)"
   ]
  },
  {
   "cell_type": "markdown",
   "metadata": {},
   "source": [
    "It seems that GridSearch will choose the higher number of epochs given the option, but with little improvement in RMSE. There is no reason to choose 100 epochs over 50 with such an insignificant gain in performance. Though we could use a model with even fewer than 50 epochs, I will use the best model from the third BaselineOnly GridSearch to make rating predictions. This RMSE is lower than that of the most tuned SVD model, but not by much. "
   ]
  },
  {
   "cell_type": "code",
   "execution_count": null,
   "metadata": {},
   "outputs": [],
   "source": []
  }
 ],
 "metadata": {
  "kernelspec": {
   "display_name": "learn-env",
   "language": "python",
   "name": "learn-env"
  },
  "language_info": {
   "codemirror_mode": {
    "name": "ipython",
    "version": 3
   },
   "file_extension": ".py",
   "mimetype": "text/x-python",
   "name": "python",
   "nbconvert_exporter": "python",
   "pygments_lexer": "ipython3",
   "version": "3.8.5"
  }
 },
 "nbformat": 4,
 "nbformat_minor": 4
}

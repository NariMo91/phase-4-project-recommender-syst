{
 "cells": [
  {
   "cell_type": "markdown",
   "metadata": {},
   "source": [
    "# Demo"
   ]
  },
  {
   "cell_type": "code",
   "execution_count": 1,
   "metadata": {},
   "outputs": [],
   "source": [
    "import pandas as pd\n",
    "import numpy as np"
   ]
  },
  {
   "cell_type": "code",
   "execution_count": 2,
   "metadata": {},
   "outputs": [
    {
     "data": {
      "text/html": [
       "<div>\n",
       "<style scoped>\n",
       "    .dataframe tbody tr th:only-of-type {\n",
       "        vertical-align: middle;\n",
       "    }\n",
       "\n",
       "    .dataframe tbody tr th {\n",
       "        vertical-align: top;\n",
       "    }\n",
       "\n",
       "    .dataframe thead th {\n",
       "        text-align: right;\n",
       "    }\n",
       "</style>\n",
       "<table border=\"1\" class=\"dataframe\">\n",
       "  <thead>\n",
       "    <tr style=\"text-align: right;\">\n",
       "      <th></th>\n",
       "      <th>userId</th>\n",
       "      <th>movieId</th>\n",
       "      <th>rating</th>\n",
       "      <th>timestamp</th>\n",
       "    </tr>\n",
       "  </thead>\n",
       "  <tbody>\n",
       "    <tr>\n",
       "      <th>0</th>\n",
       "      <td>1</td>\n",
       "      <td>1</td>\n",
       "      <td>4.0</td>\n",
       "      <td>964982703</td>\n",
       "    </tr>\n",
       "    <tr>\n",
       "      <th>1</th>\n",
       "      <td>1</td>\n",
       "      <td>3</td>\n",
       "      <td>4.0</td>\n",
       "      <td>964981247</td>\n",
       "    </tr>\n",
       "    <tr>\n",
       "      <th>2</th>\n",
       "      <td>1</td>\n",
       "      <td>6</td>\n",
       "      <td>4.0</td>\n",
       "      <td>964982224</td>\n",
       "    </tr>\n",
       "    <tr>\n",
       "      <th>3</th>\n",
       "      <td>1</td>\n",
       "      <td>47</td>\n",
       "      <td>5.0</td>\n",
       "      <td>964983815</td>\n",
       "    </tr>\n",
       "    <tr>\n",
       "      <th>4</th>\n",
       "      <td>1</td>\n",
       "      <td>50</td>\n",
       "      <td>5.0</td>\n",
       "      <td>964982931</td>\n",
       "    </tr>\n",
       "  </tbody>\n",
       "</table>\n",
       "</div>"
      ],
      "text/plain": [
       "   userId  movieId  rating  timestamp\n",
       "0       1        1     4.0  964982703\n",
       "1       1        3     4.0  964981247\n",
       "2       1        6     4.0  964982224\n",
       "3       1       47     5.0  964983815\n",
       "4       1       50     5.0  964982931"
      ]
     },
     "execution_count": 2,
     "metadata": {},
     "output_type": "execute_result"
    }
   ],
   "source": [
    "movies = pd.read_csv('data/movies_cleaned.csv')\n",
    "movies.drop('Unnamed: 0', axis=1, inplace=True)\n",
    "\n",
    "ratings = pd.read_csv('data/ratings_cleaned.csv')\n",
    "ratings.drop('Unnamed: 0', axis=1, inplace=True)\n",
    "\n",
    "tags = pd.read_csv('data/tags_cleaned.csv')\n",
    "tags.drop('Unnamed: 0', axis=1, inplace=True)\n",
    "\n",
    "ratings.head()"
   ]
  },
  {
   "cell_type": "code",
   "execution_count": 3,
   "metadata": {},
   "outputs": [],
   "source": [
    "ratings.drop('timestamp', axis=1, inplace=True)\n",
    "\n",
    "from surprise import Reader, Dataset\n",
    "from surprise.prediction_algorithms import BaselineOnly \n",
    "from surprise import accuracy"
   ]
  },
  {
   "cell_type": "markdown",
   "metadata": {},
   "source": [
    "### Content-based filter"
   ]
  },
  {
   "cell_type": "code",
   "execution_count": 4,
   "metadata": {},
   "outputs": [],
   "source": [
    "import nltk\n",
    "from nltk.tokenize import word_tokenize\n",
    "from sklearn.feature_extraction.text import TfidfVectorizer\n",
    "from sklearn.metrics.pairwise import cosine_similarity"
   ]
  },
  {
   "cell_type": "code",
   "execution_count": 5,
   "metadata": {},
   "outputs": [],
   "source": [
    "item_content = pd.read_csv('data/item_content.csv')"
   ]
  },
  {
   "cell_type": "code",
   "execution_count": 6,
   "metadata": {},
   "outputs": [
    {
     "data": {
      "text/html": [
       "<div>\n",
       "<style scoped>\n",
       "    .dataframe tbody tr th:only-of-type {\n",
       "        vertical-align: middle;\n",
       "    }\n",
       "\n",
       "    .dataframe tbody tr th {\n",
       "        vertical-align: top;\n",
       "    }\n",
       "\n",
       "    .dataframe thead th {\n",
       "        text-align: right;\n",
       "    }\n",
       "</style>\n",
       "<table border=\"1\" class=\"dataframe\">\n",
       "  <thead>\n",
       "    <tr style=\"text-align: right;\">\n",
       "      <th></th>\n",
       "      <th>movieId</th>\n",
       "      <th>bow</th>\n",
       "      <th>title</th>\n",
       "    </tr>\n",
       "  </thead>\n",
       "  <tbody>\n",
       "    <tr>\n",
       "      <th>0</th>\n",
       "      <td>1</td>\n",
       "      <td>adventure animation children comedy fantasy pi...</td>\n",
       "      <td>Toy Story (1995)</td>\n",
       "    </tr>\n",
       "    <tr>\n",
       "      <th>1</th>\n",
       "      <td>2</td>\n",
       "      <td>adventure children fantasy fantasy magic board...</td>\n",
       "      <td>Jumanji (1995)</td>\n",
       "    </tr>\n",
       "    <tr>\n",
       "      <th>2</th>\n",
       "      <td>3</td>\n",
       "      <td>comedy romance moldy old</td>\n",
       "      <td>Grumpier Old Men (1995)</td>\n",
       "    </tr>\n",
       "    <tr>\n",
       "      <th>3</th>\n",
       "      <td>4</td>\n",
       "      <td>comedy drama romance</td>\n",
       "      <td>Waiting to Exhale (1995)</td>\n",
       "    </tr>\n",
       "    <tr>\n",
       "      <th>4</th>\n",
       "      <td>5</td>\n",
       "      <td>comedy pregnancy remake</td>\n",
       "      <td>Father of the Bride Part II (1995)</td>\n",
       "    </tr>\n",
       "  </tbody>\n",
       "</table>\n",
       "</div>"
      ],
      "text/plain": [
       "   movieId                                                bow  \\\n",
       "0        1  adventure animation children comedy fantasy pi...   \n",
       "1        2  adventure children fantasy fantasy magic board...   \n",
       "2        3                           comedy romance moldy old   \n",
       "3        4                              comedy drama romance    \n",
       "4        5                            comedy pregnancy remake   \n",
       "\n",
       "                                title  \n",
       "0                    Toy Story (1995)  \n",
       "1                      Jumanji (1995)  \n",
       "2             Grumpier Old Men (1995)  \n",
       "3            Waiting to Exhale (1995)  \n",
       "4  Father of the Bride Part II (1995)  "
      ]
     },
     "execution_count": 6,
     "metadata": {},
     "output_type": "execute_result"
    }
   ],
   "source": [
    "# combine titles with item content\n",
    "\n",
    "item_content2 = pd.merge(item_content, movies, how='left', on='movieId')\n",
    "item_content2 = item_content2.drop('genres', axis=1)\n",
    "item_content2.head()"
   ]
  },
  {
   "cell_type": "code",
   "execution_count": 7,
   "metadata": {},
   "outputs": [
    {
     "name": "stdout",
     "output_type": "stream",
     "text": [
      "[[1.         0.08806834 0.01349231 ... 0.         0.15083694 0.09576975]\n",
      " [0.08806834 1.         0.         ... 0.         0.         0.        ]\n",
      " [0.01349231 0.         1.         ... 0.         0.         0.14088282]\n",
      " ...\n",
      " [0.         0.         0.         ... 1.         0.         0.        ]\n",
      " [0.15083694 0.         0.         ... 0.         1.         0.        ]\n",
      " [0.09576975 0.         0.14088282 ... 0.         0.         1.        ]]\n"
     ]
    }
   ],
   "source": [
    "tfidf = TfidfVectorizer()\n",
    "tfidf_matrix = tfidf.fit_transform(item_content2['bow'])\n",
    "\n",
    "cosine_sim = cosine_similarity(tfidf_matrix, tfidf_matrix)\n",
    "print(cosine_sim)"
   ]
  },
  {
   "cell_type": "code",
   "execution_count": 8,
   "metadata": {},
   "outputs": [],
   "source": [
    "# Series containing titles\n",
    "indices = pd.Series(item_content2['title'])\n",
    "\n",
    "# Return list of all movies sorted by similarity\n",
    "def recommendations(title, cosine_sim=cosine_sim):\n",
    "    recommended_movies = []\n",
    "    idx = indices[indices == title].index[0]\n",
    "    sorted_scores = pd.Series(cosine_sim[idx]).sort_values(ascending=False)\n",
    "    sorted_indexes = list(sorted_scores.index)\n",
    "    for i in sorted_indexes:\n",
    "        recommended_movies.append(indices[i])\n",
    "    return recommended_movies"
   ]
  },
  {
   "cell_type": "markdown",
   "metadata": {},
   "source": [
    "### Additional Functions"
   ]
  },
  {
   "cell_type": "code",
   "execution_count": 9,
   "metadata": {},
   "outputs": [],
   "source": [
    "# Movie rater for content-based recommendations\n",
    "\n",
    "def movie_rater(movie_list, userId):\n",
    "    rating_list = []\n",
    "    for movie in movie_list:\n",
    "        entry = movies[movies['title'] == movie]\n",
    "        print(entry)\n",
    "        rating = input('How do you rate this movie on a scale of 1-5, press n if you have not seen:\\n')\n",
    "        if rating == 'n':\n",
    "            continue\n",
    "        else:\n",
    "            rating_one_movie = {'userId': userId, 'movieId': entry['movieId'].values[0],\n",
    "                               'rating': rating}\n",
    "            rating_list.append(rating_one_movie)\n",
    "            if len(rating_list) == 5:\n",
    "                break\n",
    "    return rating_list"
   ]
  },
  {
   "cell_type": "code",
   "execution_count": 15,
   "metadata": {},
   "outputs": [],
   "source": [
    "def collab_recommendations(user_ratings, movie_title_df, n):\n",
    "    for idx, rec in enumerate(user_ratings):\n",
    "        title = movie_title_df.loc[movie_title_df['movieId'] == int(rec[0])]['title']\n",
    "        print('Recommendation #', idx + 1, ': ', title, '\\n')\n",
    "        n -= 1\n",
    "        if n == 0:\n",
    "            break"
   ]
  },
  {
   "cell_type": "markdown",
   "metadata": {},
   "source": [
    "### Demo\n",
    "The following cells should be run in order. A new user searches for 3 films of interest and selects them. Content-based filtering returns the most similary films to their searched films. The user rates these films and the data is updated. Collaborative filtering predicts the user's ratings for unseen films and returns the top n recommendations."
   ]
  },
  {
   "cell_type": "code",
   "execution_count": 11,
   "metadata": {},
   "outputs": [
    {
     "name": "stdout",
     "output_type": "stream",
     "text": [
      "Welcome to your profile!\n",
      "\n"
     ]
    },
    {
     "name": "stdin",
     "output_type": "stream",
     "text": [
      "Enter UserId: 611\n"
     ]
    },
    {
     "name": "stdout",
     "output_type": "stream",
     "text": [
      "\n",
      "\n"
     ]
    },
    {
     "name": "stdin",
     "output_type": "stream",
     "text": [
      "Enter a movie you like: The Machinist\n"
     ]
    },
    {
     "name": "stdout",
     "output_type": "stream",
     "text": [
      "\n",
      "\n"
     ]
    },
    {
     "data": {
      "text/html": [
       "<div>\n",
       "<style scoped>\n",
       "    .dataframe tbody tr th:only-of-type {\n",
       "        vertical-align: middle;\n",
       "    }\n",
       "\n",
       "    .dataframe tbody tr th {\n",
       "        vertical-align: top;\n",
       "    }\n",
       "\n",
       "    .dataframe thead th {\n",
       "        text-align: right;\n",
       "    }\n",
       "</style>\n",
       "<table border=\"1\" class=\"dataframe\">\n",
       "  <thead>\n",
       "    <tr style=\"text-align: right;\">\n",
       "      <th></th>\n",
       "      <th>movieId</th>\n",
       "      <th>title</th>\n",
       "      <th>Enter for film:</th>\n",
       "    </tr>\n",
       "  </thead>\n",
       "  <tbody>\n",
       "    <tr>\n",
       "      <th>0</th>\n",
       "      <td>8950</td>\n",
       "      <td>The Machinist (2004)</td>\n",
       "      <td>1</td>\n",
       "    </tr>\n",
       "  </tbody>\n",
       "</table>\n",
       "</div>"
      ],
      "text/plain": [
       "   movieId                 title  Enter for film:\n",
       "0     8950  The Machinist (2004)                1"
      ]
     },
     "metadata": {},
     "output_type": "display_data"
    },
    {
     "name": "stdin",
     "output_type": "stream",
     "text": [
      "Enter number, press n if search is empty: 1\n"
     ]
    },
    {
     "name": "stdout",
     "output_type": "stream",
     "text": [
      "\n",
      "\n"
     ]
    },
    {
     "name": "stdin",
     "output_type": "stream",
     "text": [
      "Enter a movie you like: American psycho\n"
     ]
    },
    {
     "name": "stdout",
     "output_type": "stream",
     "text": [
      "\n",
      "\n"
     ]
    },
    {
     "data": {
      "text/html": [
       "<div>\n",
       "<style scoped>\n",
       "    .dataframe tbody tr th:only-of-type {\n",
       "        vertical-align: middle;\n",
       "    }\n",
       "\n",
       "    .dataframe tbody tr th {\n",
       "        vertical-align: top;\n",
       "    }\n",
       "\n",
       "    .dataframe thead th {\n",
       "        text-align: right;\n",
       "    }\n",
       "</style>\n",
       "<table border=\"1\" class=\"dataframe\">\n",
       "  <thead>\n",
       "    <tr style=\"text-align: right;\">\n",
       "      <th></th>\n",
       "      <th>movieId</th>\n",
       "      <th>title</th>\n",
       "      <th>Enter for film:</th>\n",
       "    </tr>\n",
       "  </thead>\n",
       "  <tbody>\n",
       "    <tr>\n",
       "      <th>0</th>\n",
       "      <td>3535</td>\n",
       "      <td>American Psycho (2000)</td>\n",
       "      <td>1</td>\n",
       "    </tr>\n",
       "    <tr>\n",
       "      <th>1</th>\n",
       "      <td>27473</td>\n",
       "      <td>American Psycho II: All American Girl (2002)</td>\n",
       "      <td>2</td>\n",
       "    </tr>\n",
       "  </tbody>\n",
       "</table>\n",
       "</div>"
      ],
      "text/plain": [
       "   movieId                                         title  Enter for film:\n",
       "0     3535                        American Psycho (2000)                1\n",
       "1    27473  American Psycho II: All American Girl (2002)                2"
      ]
     },
     "metadata": {},
     "output_type": "display_data"
    },
    {
     "name": "stdin",
     "output_type": "stream",
     "text": [
      "Enter number, press n if search is empty: 1\n"
     ]
    },
    {
     "name": "stdout",
     "output_type": "stream",
     "text": [
      "\n",
      "\n"
     ]
    },
    {
     "name": "stdin",
     "output_type": "stream",
     "text": [
      "Enter a movie you like: love actually\n"
     ]
    },
    {
     "name": "stdout",
     "output_type": "stream",
     "text": [
      "\n",
      "\n"
     ]
    },
    {
     "data": {
      "text/html": [
       "<div>\n",
       "<style scoped>\n",
       "    .dataframe tbody tr th:only-of-type {\n",
       "        vertical-align: middle;\n",
       "    }\n",
       "\n",
       "    .dataframe tbody tr th {\n",
       "        vertical-align: top;\n",
       "    }\n",
       "\n",
       "    .dataframe thead th {\n",
       "        text-align: right;\n",
       "    }\n",
       "</style>\n",
       "<table border=\"1\" class=\"dataframe\">\n",
       "  <thead>\n",
       "    <tr style=\"text-align: right;\">\n",
       "      <th></th>\n",
       "      <th>movieId</th>\n",
       "      <th>title</th>\n",
       "      <th>Enter for film:</th>\n",
       "    </tr>\n",
       "  </thead>\n",
       "  <tbody>\n",
       "    <tr>\n",
       "      <th>0</th>\n",
       "      <td>6942</td>\n",
       "      <td>Love Actually (2003)</td>\n",
       "      <td>1</td>\n",
       "    </tr>\n",
       "  </tbody>\n",
       "</table>\n",
       "</div>"
      ],
      "text/plain": [
       "   movieId                 title  Enter for film:\n",
       "0     6942  Love Actually (2003)                1"
      ]
     },
     "metadata": {},
     "output_type": "display_data"
    },
    {
     "name": "stdin",
     "output_type": "stream",
     "text": [
      "Enter number, press n if search is empty: 1\n"
     ]
    },
    {
     "name": "stdout",
     "output_type": "stream",
     "text": [
      "\n",
      "\n",
      "Selected Movies\n",
      "------------------------\n",
      "Movie 1: The Machinist (2004)\n",
      "Movie 2: American Psycho (2000)\n",
      "Movie 3: Love Actually (2003)\n",
      "\n",
      "\n",
      "Movies like The Machinist (2004)\n",
      "['The Machinist (2004)', 'Spanish Prisoner, The (1997)', 'Memento (2000)', 'Lucky Number Slevin (2006)', 'Zelig (1983)']\n",
      "\n",
      "\n",
      "Movies like American Psycho (2000)\n",
      "['Saw VI (2009)', \"Bird with the Crystal Plumage, The (Uccello dalle piume di cristallo, L') (1970)\", 'American Psycho (2000)', 'Book of Shadows: Blair Witch 2 (2000)', 'Testament of Dr. Mabuse, The (Das Testament des Dr. Mabuse) (1933)']\n",
      "\n",
      "\n",
      "Movies like Love Actually (2003)\n",
      "['Late Marriage (Hatuna Meuheret) (2001)', 'Importance of Being Earnest, The (2002)', 'And So It Goes (2014)', 'Something Borrowed (2011)', \"Love Lasts Three Years (L'amour dure trois ans) (2011)\"]\n",
      "\n",
      "\n",
      "Rate Films\n",
      "------------------------\n",
      "      movieId                 title                  genres\n",
      "5365     8950  The Machinist (2004)  Drama|Mystery|Thriller\n"
     ]
    },
    {
     "name": "stdin",
     "output_type": "stream",
     "text": [
      "How do you rate this movie on a scale of 1-5, press n if you have not seen:\n",
      " 3\n"
     ]
    },
    {
     "name": "stdout",
     "output_type": "stream",
     "text": [
      "      movieId                         title                        genres\n",
      "1348     1834  Spanish Prisoner, The (1997)  Crime|Drama|Mystery|Thriller\n"
     ]
    },
    {
     "name": "stdin",
     "output_type": "stream",
     "text": [
      "How do you rate this movie on a scale of 1-5, press n if you have not seen:\n",
      " 4\n"
     ]
    },
    {
     "name": "stdout",
     "output_type": "stream",
     "text": [
      "      movieId           title            genres\n",
      "3141     4226  Memento (2000)  Mystery|Thriller\n"
     ]
    },
    {
     "name": "stdin",
     "output_type": "stream",
     "text": [
      "How do you rate this movie on a scale of 1-5, press n if you have not seen:\n",
      " 5\n"
     ]
    },
    {
     "name": "stdout",
     "output_type": "stream",
     "text": [
      "      movieId                       title               genres\n",
      "6168    44665  Lucky Number Slevin (2006)  Crime|Drama|Mystery\n"
     ]
    },
    {
     "name": "stdin",
     "output_type": "stream",
     "text": [
      "How do you rate this movie on a scale of 1-5, press n if you have not seen:\n",
      " 5\n"
     ]
    },
    {
     "name": "stdout",
     "output_type": "stream",
     "text": [
      "      movieId         title  genres\n",
      "5060     7934  Zelig (1983)  Comedy\n"
     ]
    },
    {
     "name": "stdin",
     "output_type": "stream",
     "text": [
      "How do you rate this movie on a scale of 1-5, press n if you have not seen:\n",
      " 3\n"
     ]
    },
    {
     "name": "stdout",
     "output_type": "stream",
     "text": [
      "      movieId          title                         genres\n",
      "7171    72129  Saw VI (2009)  Crime|Horror|Mystery|Thriller\n"
     ]
    },
    {
     "name": "stdin",
     "output_type": "stream",
     "text": [
      "How do you rate this movie on a scale of 1-5, press n if you have not seen:\n",
      " 3\n"
     ]
    },
    {
     "name": "stdout",
     "output_type": "stream",
     "text": [
      "      movieId                                              title  \\\n",
      "6070    41014  Bird with the Crystal Plumage, The (Uccello da...   \n",
      "\n",
      "                             genres  \n",
      "6070  Crime|Horror|Mystery|Thriller  \n"
     ]
    },
    {
     "name": "stdin",
     "output_type": "stream",
     "text": [
      "How do you rate this movie on a scale of 1-5, press n if you have not seen:\n",
      " 3\n"
     ]
    },
    {
     "name": "stdout",
     "output_type": "stream",
     "text": [
      "      movieId                   title                         genres\n",
      "2641     3535  American Psycho (2000)  Crime|Horror|Mystery|Thriller\n"
     ]
    },
    {
     "name": "stdin",
     "output_type": "stream",
     "text": [
      "How do you rate this movie on a scale of 1-5, press n if you have not seen:\n",
      " 5\n"
     ]
    },
    {
     "name": "stdout",
     "output_type": "stream",
     "text": [
      "      movieId                                  title  \\\n",
      "2964     3973  Book of Shadows: Blair Witch 2 (2000)   \n",
      "\n",
      "                             genres  \n",
      "2964  Crime|Horror|Mystery|Thriller  \n"
     ]
    },
    {
     "name": "stdin",
     "output_type": "stream",
     "text": [
      "How do you rate this movie on a scale of 1-5, press n if you have not seen:\n",
      " 2\n"
     ]
    },
    {
     "name": "stdout",
     "output_type": "stream",
     "text": [
      "      movieId                                              title  \\\n",
      "5271     8670  Testament of Dr. Mabuse, The (Das Testament de...   \n",
      "\n",
      "                             genres  \n",
      "5271  Crime|Horror|Mystery|Thriller  \n"
     ]
    },
    {
     "name": "stdin",
     "output_type": "stream",
     "text": [
      "How do you rate this movie on a scale of 1-5, press n if you have not seen:\n",
      " 4\n"
     ]
    },
    {
     "name": "stdout",
     "output_type": "stream",
     "text": [
      "      movieId                                   title                genres\n",
      "4251     6202  Late Marriage (Hatuna Meuheret) (2001)  Comedy|Drama|Romance\n"
     ]
    },
    {
     "name": "stdin",
     "output_type": "stream",
     "text": [
      "How do you rate this movie on a scale of 1-5, press n if you have not seen:\n",
      " 2\n"
     ]
    },
    {
     "name": "stdout",
     "output_type": "stream",
     "text": [
      "      movieId                                    title                genres\n",
      "3834     5380  Importance of Being Earnest, The (2002)  Comedy|Drama|Romance\n"
     ]
    },
    {
     "name": "stdin",
     "output_type": "stream",
     "text": [
      "How do you rate this movie on a scale of 1-5, press n if you have not seen:\n",
      " 3\n"
     ]
    },
    {
     "name": "stdout",
     "output_type": "stream",
     "text": [
      "      movieId                  title                genres\n",
      "8469   112749  And So It Goes (2014)  Comedy|Drama|Romance\n"
     ]
    },
    {
     "name": "stdin",
     "output_type": "stream",
     "text": [
      "How do you rate this movie on a scale of 1-5, press n if you have not seen:\n",
      " 4\n"
     ]
    },
    {
     "name": "stdout",
     "output_type": "stream",
     "text": [
      "      movieId                      title                genres\n",
      "7602    86817  Something Borrowed (2011)  Comedy|Drama|Romance\n"
     ]
    },
    {
     "name": "stdin",
     "output_type": "stream",
     "text": [
      "How do you rate this movie on a scale of 1-5, press n if you have not seen:\n",
      " 4\n"
     ]
    },
    {
     "name": "stdout",
     "output_type": "stream",
     "text": [
      "      movieId                                              title  \\\n",
      "7992    96945  Love Lasts Three Years (L'amour dure trois ans...   \n",
      "\n",
      "                    genres  \n",
      "7992  Comedy|Drama|Romance  \n"
     ]
    },
    {
     "name": "stdin",
     "output_type": "stream",
     "text": [
      "How do you rate this movie on a scale of 1-5, press n if you have not seen:\n",
      " 3\n"
     ]
    }
   ],
   "source": [
    "print('Welcome to your profile!\\n')\n",
    "userId = int(input('Enter UserId:'))\n",
    "print('\\n')\n",
    "\n",
    "# obtain list of three movies\n",
    "cold_start_list = []\n",
    "while len(cold_start_list) < 3:\n",
    "    search = input('Enter a movie you like:')\n",
    "    print('\\n')\n",
    "    search_results = item_content2[item_content2['title'].str.contains(search, case=False)]\n",
    "    search_results = search_results.reset_index().drop('index', axis=1)\n",
    "    \n",
    "    # select and append film names from searches\n",
    "    search_results['Enter for film:'] = search_results.index + 1\n",
    "    display(search_results[['movieId', 'title', 'Enter for film:']])\n",
    "    film_num = input('Enter number, press n if search is empty:')\n",
    "    if film_num == 'n':\n",
    "        print('\\n')\n",
    "        continue\n",
    "    else:\n",
    "        idx = int(film_num) - 1\n",
    "        cold_start_list.append(search_results.iloc[idx]['title'])\n",
    "        print('\\n')\n",
    "\n",
    "# Print search results\n",
    "print('Selected Movies')\n",
    "print('------------------------')\n",
    "for idx, movie in enumerate(cold_start_list):\n",
    "    print('Movie {}: {}'.format((idx+1), movie))\n",
    "print('\\n')\n",
    "\n",
    "# Content-based recommendations in 3 lists\n",
    "cold_recs = []\n",
    "for movie in cold_start_list:\n",
    "    print('Movies like', movie)\n",
    "    rec_list = recommendations(movie)\n",
    "    cold_recs.append(rec_list)\n",
    "    # display top 10 most similar movies\n",
    "    print(rec_list[:5])\n",
    "    print('\\n')\n",
    "\n",
    "# Rate seen films\n",
    "print('Rate Films')\n",
    "print('------------------------')\n",
    "user_ratings_nested = []\n",
    "for rec_list in cold_recs:\n",
    "    # user rates at least 5 most similar movies for each search\n",
    "    user_ratings = movie_rater(rec_list, userId)\n",
    "    user_ratings_nested.append(user_ratings)\n",
    "\n",
    "# flattened list of 15 new ratings\n",
    "user_ratings_all = []\n",
    "for element in user_ratings_nested:\n",
    "    user_ratings_all.extend(element)"
   ]
  },
  {
   "cell_type": "code",
   "execution_count": 12,
   "metadata": {},
   "outputs": [
    {
     "name": "stdout",
     "output_type": "stream",
     "text": [
      "Estimating biases using als...\n"
     ]
    },
    {
     "data": {
      "text/plain": [
       "<surprise.prediction_algorithms.baseline_only.BaselineOnly at 0x7fe5720ce3d0>"
      ]
     },
     "execution_count": 12,
     "metadata": {},
     "output_type": "execute_result"
    }
   ],
   "source": [
    "# train algo on updated ratings data\n",
    "new_ratings_df = ratings.append(user_ratings_all, ignore_index=True)\n",
    "\n",
    "reader = Reader()\n",
    "data = Dataset.load_from_df(new_ratings_df, reader)\n",
    "trainset = data.build_full_trainset()\n",
    "\n",
    "bsl_options = {'method': 'als',\n",
    "               'n_epochs': 50,\n",
    "               'reg_u': 4,\n",
    "               'reg_i': 3\n",
    "               }\n",
    "algo = BaselineOnly(bsl_options=bsl_options)\n",
    "algo.fit(trainset)"
   ]
  },
  {
   "cell_type": "code",
   "execution_count": 17,
   "metadata": {},
   "outputs": [
    {
     "name": "stdout",
     "output_type": "stream",
     "text": [
      "Based on Your Ratings:\n",
      "\n",
      "Recommendation # 1 :  9615    Three Billboards Outside Ebbing, Missouri (2017)\n",
      "Name: title, dtype: object \n",
      "\n",
      "Recommendation # 2 :  277    Shawshank Redemption, The (1994)\n",
      "Name: title, dtype: object \n",
      "\n",
      "Recommendation # 3 :  2582    Guess Who's Coming to Dinner (1967)\n",
      "Name: title, dtype: object \n",
      "\n",
      "Recommendation # 4 :  906    Lawrence of Arabia (1962)\n",
      "Name: title, dtype: object \n",
      "\n",
      "Recommendation # 5 :  602    Dr. Strangelove or: How I Learned to Stop Worr...\n",
      "Name: title, dtype: object \n",
      "\n"
     ]
    }
   ],
   "source": [
    "# predictions/ collaborative filtering recommendations\n",
    "list_of_movies = []\n",
    "for m_id in new_ratings_df['movieId'].unique():\n",
    "    list_of_movies.append((m_id, algo.predict(userId, m_id)[3]))\n",
    "\n",
    "ranked_movies = sorted(list_of_movies, key = lambda x:x[1], reverse=True)\n",
    "\n",
    "print('Based on Your Ratings:\\n')\n",
    "collab_recommendations(ranked_movies, movies, n=5)"
   ]
  },
  {
   "cell_type": "code",
   "execution_count": null,
   "metadata": {},
   "outputs": [],
   "source": []
  }
 ],
 "metadata": {
  "kernelspec": {
   "display_name": "learn-env",
   "language": "python",
   "name": "learn-env"
  },
  "language_info": {
   "codemirror_mode": {
    "name": "ipython",
    "version": 3
   },
   "file_extension": ".py",
   "mimetype": "text/x-python",
   "name": "python",
   "nbconvert_exporter": "python",
   "pygments_lexer": "ipython3",
   "version": "3.8.5"
  }
 },
 "nbformat": 4,
 "nbformat_minor": 4
}
